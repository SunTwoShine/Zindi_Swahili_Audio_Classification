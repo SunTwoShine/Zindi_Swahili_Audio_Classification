{
 "cells": [
  {
   "cell_type": "code",
   "execution_count": null,
   "id": "2aae8fdf-d51a-488e-a1b1-fb0c20082403",
   "metadata": {},
   "outputs": [],
   "source": [
    "from fastaudio.augment.all import *\n",
    "from fastaudio.core.all import *\n",
    "from fastai.data.all import *\n",
    "from scipy.ndimage import minimum_filter1d\n",
    "from tqdm.notebook import tqdm\n",
    "import IPython.display as ipd"
   ]
  },
  {
   "cell_type": "code",
   "execution_count": null,
   "id": "863c404b-14a2-4e8b-86d0-3c6331d47cd8",
   "metadata": {},
   "outputs": [],
   "source": [
    "# Set seed\n",
    "np.random.seed(2022)"
   ]
  },
  {
   "cell_type": "code",
   "execution_count": null,
   "id": "d49d343b-e20b-40ee-bd03-b38b8feec9a7",
   "metadata": {},
   "outputs": [],
   "source": [
    "# Load files\n",
    "train = pd.read_csv('data/Train.csv')\n",
    "test = pd.read_csv('data/Test.csv')"
   ]
  },
  {
   "cell_type": "code",
   "execution_count": null,
   "id": "5218cea3-ad96-41b2-bcee-4f89970f2d76",
   "metadata": {},
   "outputs": [],
   "source": [
    "train.head()"
   ]
  },
  {
   "cell_type": "code",
   "execution_count": null,
   "id": "e9434e15-671a-49e1-9119-9cd74821fa94",
   "metadata": {},
   "outputs": [],
   "source": [
    "# Concatenate train with test for easy data manipulation\n",
    "train_test_files = train.Word_id.tolist() + test.Word_id.tolist()\n",
    "\n"
   ]
  },
  {
   "cell_type": "code",
   "execution_count": null,
   "id": "b1cc6b42-1fbf-4605-93bd-7c201b665895",
   "metadata": {},
   "outputs": [],
   "source": [
    "def remove_short_sounds_and_filter_words(audio):\n",
    "    \"\"\"\n",
    "    inputs an audio signal and filters the signal to a length of filter_time. \n",
    "    The signal is centered around loudest long sections of the input signal, which is usually the spoken word\n",
    "    input: \n",
    "    audio: audio tensor, \n",
    "    filter_time: length of the output (needs to be longer than the spoken words)\n",
    "    \"\"\"\n",
    "    y = minimum_filter1d(abs(audio), size=1000, mode='constant')\n",
    "    ind_max = y[0].argmax()\n",
    "    window_range = audio.sr/2\n",
    "    if ind_max<=window_range:\n",
    "        ind_lrange=0\n",
    "    else:\n",
    "        ind_lrange=int(ind_max-window_range)\n",
    "        \n",
    "    if (audio.shape[1]-ind_max)<=window_range:\n",
    "        ind_rrange=int(audio.shape[1])\n",
    "    else:\n",
    "        ind_rrange=int(ind_max+window_range)\n",
    "    audio.data=audio.data[:,ind_lrange:ind_rrange]\n",
    "    return audio"
   ]
  },
  {
   "cell_type": "code",
   "execution_count": null,
   "id": "b6510df4-0913-46ab-9712-b6fe22fd5ea3",
   "metadata": {},
   "outputs": [],
   "source": [
    "os.mkdir('data/Swahili_words_filtered') # Create a folder to store the spectrograms"
   ]
  },
  {
   "cell_type": "code",
   "execution_count": null,
   "id": "11eb62ff-5451-42f7-9932-fe97b9df70ca",
   "metadata": {},
   "outputs": [],
   "source": [
    "# Function to generate spectrogram\n",
    "def gen_filtered_signal(path):\n",
    "    audio = AudioTensor.create(path)\n",
    "    audio.data=audio.data[:,int(audio.sr/2):]\n",
    "    tfm = RemoveSilence()\n",
    "    tfm(audio)\n",
    "    remove_short_sounds_and_filter_words(audio)\n",
    "    tfm(audio)\n",
    "    ResizeSignal(duration=1000)(audio)\n",
    "    \n",
    "    filter_path = 'data/Swahili_words_filtered/' + path.split('/')[2]\n",
    "    audio.save(filter_path)"
   ]
  },
  {
   "cell_type": "code",
   "execution_count": null,
   "id": "3fb4c369-8d4c-4daa-bc5a-2709042aba13",
   "metadata": {},
   "outputs": [],
   "source": [
    "for word_id in tqdm(train_test_files):\n",
    "  # Check if we've already generated a filtered signal, and if not, make one\n",
    "    spec_path = 'data/Swahili_words_filtered/' + word_id\n",
    "    if not os.path.isfile(spec_path):\n",
    "        gen_filtered_signal('data/Swahili_words/'+ word_id)\n",
    "    ipd.clear_output(wait=True)"
   ]
  },
  {
   "cell_type": "code",
   "execution_count": null,
   "id": "235d7709-dee1-4bff-ae28-000aad04c37b",
   "metadata": {},
   "outputs": [],
   "source": [
    "# Checking that the spectrograms were generated successfully:\n",
    "len(os.listdir('data/Swahili_words')) == len(os.listdir('data/Swahili_words_filtered')), len(os.listdir('data/Swahili_words_filtered'))"
   ]
  },
  {
   "cell_type": "code",
   "execution_count": null,
   "id": "ac346c3e-b7f2-48c9-b938-f9be90619b45",
   "metadata": {},
   "outputs": [],
   "source": [
    "i = 0"
   ]
  },
  {
   "cell_type": "code",
   "execution_count": null,
   "id": "4ee29101-d184-4252-ae0b-1ec0119deff0",
   "metadata": {},
   "outputs": [],
   "source": [
    "# Sample some words\n",
    "for word in random.sample(train['Swahili_word'].unique().tolist(), 6):\n",
    "    sample = train[train['Swahili_word'] == word]['Word_id'].sample(1).values[0]\n",
    "    display(word, sample, ipd.Audio('data/Swahili_words_filtered/'+ sample ))\n",
    "i+=1"
   ]
  },
  {
   "cell_type": "code",
   "execution_count": null,
   "id": "3d98008a-ffe6-42fc-a4dd-169f449db25e",
   "metadata": {},
   "outputs": [],
   "source": [
    "i"
   ]
  },
  {
   "cell_type": "markdown",
   "id": "f4b7ab88-b271-4741-a226-8a66edd7ebc7",
   "metadata": {},
   "source": [
    "### wrongly filtered (forth try)\n",
    "\n",
    "i=32\n",
    "\n",
    "* id_ke9iku0q76f1 kumi, end cut off, background noise at beginning\n",
    "* id_6ljcok2j07f9 end cut off\n",
    "* id_cdxl1wbdn9pn end cut off\n",
    "* id_cdxl1wbdn9pn hapana end cut off\n",
    "* id_e82jojic8yrp laughing"
   ]
  },
  {
   "cell_type": "markdown",
   "id": "6042c110-b3d9-413f-8fa7-d94fea3a4310",
   "metadata": {},
   "source": [
    "### wrongly filtered (third try)\n",
    "\n",
    "i=27\n",
    "\n",
    "* id_y0ofpylebult hapana, end cut off\n",
    "* id_8yceuwbm7ack children screaming\n",
    "* id_idbws40cm1jq brabbling, word starting at the end\n",
    "* id_1izzii125db0 hapana, end cut off\n",
    "* id_z8spxgllon1a bird\n",
    "* id_zlfye2qpp812 background speaker\n",
    "* id_qp2exgpeewvo hapana, beginning cut off\n",
    "* id_rf6o0w1uinfy phone ringing at end, in original, the word was repeated\n",
    "* id_nt2tl73rh373 sizzling\n",
    "* id_0wxcl0zehbjh cut short\n",
    "* id_q2drmnfcncwr cut short\n",
    "* id_j6hsq1dcl82k cut short"
   ]
  },
  {
   "cell_type": "markdown",
   "id": "1d5d9643-5072-4560-9d64-98bde7997918",
   "metadata": {},
   "source": [
    "### wrongly filtered (second try)\n",
    "\n",
    "i=16\n",
    "\n",
    "* id_k6x7ae632gsi (sizzling)\n",
    "* id_q8ublattuf6h (a little off)\n",
    "* id_u2nwo5hc15gg (hapana, last a cut off)\n",
    "* id_o3kdutdq4o8d (silent)\n",
    "* id_zg5r8d3w0vls (silent)\n",
    "* id_edwy74cljdl3 (silent)\n",
    "* id_toljkyjcpo2g (wrong data)"
   ]
  },
  {
   "cell_type": "markdown",
   "id": "34187911-73d9-4537-b89e-f0223eb3b92b",
   "metadata": {},
   "source": [
    "### wrongly filtered (First try)\n",
    "* id_8yceuwbm7ack (children screaming)\n",
    "* id_q8ublattuf6h (plop)\n",
    "* id_xybg1e3runiu (very quiet sizzling)\n",
    "* id_yd5ohcfe3mam (very quiet)\n",
    "* id_e27kxvgw6h0o (very quiet)\n",
    "* id_lrduy4kd0l9m (very quiet)\n",
    "* id_8c3z26adlmsq (very quiet)\n",
    "* id_710tsclefl7o (plop)\n",
    "* id_vcr1v5ff5ytr (half word cut off)\n",
    "* id_rf6o0w1uinfy (word only half spoken, then interrupted. In original, the word was repeated)"
   ]
  },
  {
   "cell_type": "code",
   "execution_count": null,
   "id": "31f51d81-dc74-420f-8026-8f1bfdf2dd13",
   "metadata": {},
   "outputs": [],
   "source": [
    "full_audio = AudioTensor.create('data/Swahili_words/id_k6x7ae632gsi.wav')\n",
    "full_audio.show()"
   ]
  },
  {
   "cell_type": "code",
   "execution_count": null,
   "id": "377b0688-53b1-45c8-8622-90311a2b63ee",
   "metadata": {},
   "outputs": [],
   "source": [
    "tfm = RemoveSilence()\n",
    "tfm(full_audio).show()"
   ]
  },
  {
   "cell_type": "code",
   "execution_count": null,
   "id": "e054f360-beef-4964-8c35-a05f1a3baded",
   "metadata": {},
   "outputs": [],
   "source": [
    "filt_audio = AudioTensor.create('data/Swahili_words_filtered/id_k6x7ae632gsi.wav')\n",
    "filt_audio.show()"
   ]
  },
  {
   "cell_type": "code",
   "execution_count": null,
   "id": "43c39205-ffa8-47be-9d1e-cd62dbf6f9fc",
   "metadata": {},
   "outputs": [],
   "source": []
  }
 ],
 "metadata": {
  "kernelspec": {
   "display_name": "Python 3 (ipykernel)",
   "language": "python",
   "name": "python3"
  },
  "language_info": {
   "codemirror_mode": {
    "name": "ipython",
    "version": 3
   },
   "file_extension": ".py",
   "mimetype": "text/x-python",
   "name": "python",
   "nbconvert_exporter": "python",
   "pygments_lexer": "ipython3",
   "version": "3.10.7"
  }
 },
 "nbformat": 4,
 "nbformat_minor": 5
}
