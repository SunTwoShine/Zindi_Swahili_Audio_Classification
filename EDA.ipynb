{
 "cells": [
  {
   "cell_type": "markdown",
   "id": "41b6c669-1e9e-4ae0-8c19-da971ff55344",
   "metadata": {},
   "source": [
    "# Swahili Audio Classification EDA\n",
    "\n",
    "\n",
    "|Swahili|English|\n",
    "|---|---|\n",
    "| ndio | yes |\n",
    "| hapana | no |\n",
    "| moja | one |\n",
    "| mbili | two |\n",
    "| tatu | three |\n",
    "| nne | four |\n",
    "| tano | five |\n",
    "| sita | six |\n",
    "| saba | seven |\n",
    "| nane | eight |\n",
    "| tisa | nine |\n",
    "| kumi | ten |"
   ]
  },
  {
   "cell_type": "code",
   "execution_count": null,
   "id": "d375fbab-8c55-416d-8c3a-11a08ed5b007",
   "metadata": {},
   "outputs": [],
   "source": [
    "import pandas as pd\n",
    "import numpy as np\n",
    "import matplotlib.pyplot as plt\n",
    "import librosa\n",
    "import librosa.display\n",
    "import random\n",
    "import IPython.display as ipd"
   ]
  },
  {
   "cell_type": "code",
   "execution_count": null,
   "id": "e889ded8-378f-443f-8f1c-867753c82ad5",
   "metadata": {},
   "outputs": [],
   "source": [
    "train_df = pd.read_csv('data/Train.csv')"
   ]
  },
  {
   "cell_type": "code",
   "execution_count": null,
   "id": "3221d247-9fe1-4272-8de3-541192be25d8",
   "metadata": {},
   "outputs": [],
   "source": [
    "train_df.head()"
   ]
  },
  {
   "cell_type": "code",
   "execution_count": null,
   "id": "83c856ba-c5c2-4be1-8b77-3cf4e7125eec",
   "metadata": {},
   "outputs": [],
   "source": [
    "train_df['Swahili_word'].value_counts()\n",
    "# perfectly balanced"
   ]
  },
  {
   "cell_type": "code",
   "execution_count": null,
   "id": "29505924-dfd6-474d-a7dc-d92df71a5cbb",
   "metadata": {},
   "outputs": [],
   "source": [
    "# Sample some words\n",
    "for word in random.sample(train_df['Swahili_word'].unique().tolist(), 6):\n",
    "    sample = train_df[train_df['Swahili_word'] == word]['Word_id'].sample(1).values[0]\n",
    "    display(word, sample, ipd.Audio('data/Swahili_words/'+ sample ))"
   ]
  },
  {
   "cell_type": "markdown",
   "id": "146fa6ff-55f1-4304-889a-d9be4c231df7",
   "metadata": {
    "tags": []
   },
   "source": [
    "## Wrong Data \n",
    "\n",
    "* id_p0w83k2cxaq7 (tatu) are totally wrong words. Nothing that is part of the challenge\n",
    "* id_qbkjs5jaji4s sais 'yes'\n",
    "* id_bkbq9rsmuq8j sais 'seven'\n",
    "* id_toljkyjcpo2g someone randomly talking\n",
    "* id_v2okjqke4zmb saying nne instead of nane"
   ]
  },
  {
   "cell_type": "markdown",
   "id": "903a0497-f721-43f2-b749-bc7e9d5d2627",
   "metadata": {},
   "source": [
    "## Compare 3 samples for each word"
   ]
  },
  {
   "cell_type": "code",
   "execution_count": null,
   "id": "5f89e6c7-6d93-48d7-a4d3-ed11c932f917",
   "metadata": {},
   "outputs": [],
   "source": [
    "dict_samples=dict()\n",
    "for word in train_df['Swahili_word'].unique().tolist():\n",
    "    sample = train_df[train_df['Swahili_word'] == word]['Word_id'].sample(3).values[:]\n",
    "    dict_samples[word] = sample"
   ]
  },
  {
   "cell_type": "code",
   "execution_count": null,
   "id": "3e84476c-8278-494c-81d9-47dbab2104c8",
   "metadata": {},
   "outputs": [],
   "source": [
    "dict_samples"
   ]
  },
  {
   "cell_type": "code",
   "execution_count": null,
   "id": "af17756a-ea38-40bd-b5f0-8fad2e469732",
   "metadata": {
    "tags": []
   },
   "outputs": [],
   "source": [
    "# show three wavefiles for all words in time domain, for easy comparison between the words\n",
    "for word in dict_samples:\n",
    "    i=0\n",
    "    fig, ax = plt.subplots(nrows=1, ncols=3, sharey=True)\n",
    "    fig.set_size_inches(10, 5)\n",
    "    fig.suptitle(word)\n",
    "    for audiofile in dict_samples[word]:\n",
    "        x, sr = librosa.load('data/Swahili_words/'+audiofile)\n",
    "        img = librosa.display.waveplot(x, sr=sr, ax=ax[i])\n",
    "        i+=1\n"
   ]
  },
  {
   "cell_type": "code",
   "execution_count": null,
   "id": "f737f2b8-efd3-44bd-8b68-b5ac3463d669",
   "metadata": {},
   "outputs": [],
   "source": [
    "# # show the three files of each word time-centered in frequency domain\n",
    "# for word in dict_samples:\n",
    "#     i=0\n",
    "#     fig, ax = plt.subplots(nrows=1, ncols=3, sharey=True)\n",
    "#     fig.set_size_inches(10, 5)\n",
    "#     fig.suptitle(word)\n",
    "#     for audiofile in dict_samples[word]:\n",
    "#         x, sr = librosa.load('data/Swahili_words/'+audiofile)\n",
    "#         X = librosa.amplitude_to_db(np.abs(librosa.stft(x)), ref=np.max)\n",
    "#         img = librosa.display.specshow(X, y_axis='log', x_axis='time', sr=sr, ax=ax[i])\n",
    "#         i+=1"
   ]
  },
  {
   "cell_type": "markdown",
   "id": "c9b9b124-9b20-45e1-b98f-40608076e9d1",
   "metadata": {},
   "source": [
    "## Preprocessing"
   ]
  },
  {
   "cell_type": "code",
   "execution_count": null,
   "id": "9d344759-b05e-4efa-ad2a-c6c234bc8f1a",
   "metadata": {},
   "outputs": [],
   "source": [
    "from fastaudio.augment.all import *\n",
    "from fastaudio.core.all import *\n",
    "from fastai.data.all import *"
   ]
  },
  {
   "cell_type": "code",
   "execution_count": null,
   "id": "10c14780-5411-422e-96d4-e1c5ce710416",
   "metadata": {},
   "outputs": [],
   "source": [
    "audio = AudioTensor.create('data/Swahili_words/id_lrduy4kd0l9m.wav')\n",
    "audio.show()"
   ]
  },
  {
   "cell_type": "code",
   "execution_count": null,
   "id": "cb9f7834-7aa3-4474-ac18-05418627e30a",
   "metadata": {
    "tags": []
   },
   "outputs": [],
   "source": [
    "spectrogram = AudioToSpec.from_cfg(AudioConfig.Voice())(audio)\n",
    "spectrogram.show()"
   ]
  },
  {
   "cell_type": "code",
   "execution_count": null,
   "id": "3dd547b6-7300-4c8b-9a19-d40a9fa9da1c",
   "metadata": {},
   "outputs": [],
   "source": [
    "tfm = RemoveSilence()\n",
    "tfm(audio).show()"
   ]
  },
  {
   "cell_type": "code",
   "execution_count": null,
   "id": "20b1a709-9608-40b9-adcd-ce08f84d6971",
   "metadata": {},
   "outputs": [],
   "source": [
    "from scipy.ndimage import minimum_filter1d"
   ]
  },
  {
   "cell_type": "code",
   "execution_count": null,
   "id": "69724c30-e5a8-4e02-8c63-aebd5f5b1b1c",
   "metadata": {},
   "outputs": [],
   "source": [
    "y = minimum_filter1d(abs(audio), size=1000, mode='constant')"
   ]
  },
  {
   "cell_type": "code",
   "execution_count": null,
   "id": "86583c66-67aa-417e-9e77-438086a043bd",
   "metadata": {},
   "outputs": [],
   "source": [
    "plt.plot(y[0])"
   ]
  },
  {
   "cell_type": "code",
   "execution_count": null,
   "id": "fe6bfd34-4671-4e66-b284-cef8f4c776a2",
   "metadata": {},
   "outputs": [],
   "source": [
    "audio.shape"
   ]
  },
  {
   "cell_type": "code",
   "execution_count": null,
   "id": "13a7a2bc-b13e-4359-9ac8-4507a810cd47",
   "metadata": {},
   "outputs": [],
   "source": [
    "ind_max = y[0].argmax()\n",
    "window_range = audio.sr/2\n",
    "if ind_max<=window_range:\n",
    "    ind_lrange=0\n",
    "else:\n",
    "    ind_lrange=int(ind_max-window_range)\n",
    "    \n",
    "if (audio.shape[1]-ind_max)<=window_range:\n",
    "    ind_rrange=int(audio.shape[1])\n",
    "else:\n",
    "    ind_rrange=int(ind_max+window_range)\n",
    "audio.data=audio.data[:,ind_lrange:ind_rrange]"
   ]
  },
  {
   "cell_type": "code",
   "execution_count": null,
   "id": "1c8bbd81-fa8f-4abb-a80e-9ae025430bbe",
   "metadata": {},
   "outputs": [],
   "source": [
    "audio.shape[1]"
   ]
  },
  {
   "cell_type": "code",
   "execution_count": null,
   "id": "97cd3850-af67-4ad3-b39d-e718f6333764",
   "metadata": {},
   "outputs": [],
   "source": [
    "audio.show()"
   ]
  },
  {
   "cell_type": "code",
   "execution_count": null,
   "id": "c8335649-06ca-4ec5-aefe-748eee22e1ca",
   "metadata": {},
   "outputs": [],
   "source": [
    "tfm(audio).show()"
   ]
  },
  {
   "cell_type": "code",
   "execution_count": null,
   "id": "16044250-7831-4d75-a365-e3d4b824e83c",
   "metadata": {},
   "outputs": [],
   "source": [
    "audio.save('data/Swahili_words_filtered/id_lrduy4kd0l9m.wav')"
   ]
  },
  {
   "cell_type": "code",
   "execution_count": null,
   "id": "ff7757bd-6484-4909-8a6c-617b1712280f",
   "metadata": {},
   "outputs": [],
   "source": [
    "audio.sr"
   ]
  },
  {
   "cell_type": "code",
   "execution_count": null,
   "id": "0087c515-3f9e-4c49-9f0a-7917835f3cad",
   "metadata": {},
   "outputs": [],
   "source": []
  }
 ],
 "metadata": {
  "kernelspec": {
   "display_name": "Python 3 (ipykernel)",
   "language": "python",
   "name": "python3"
  },
  "language_info": {
   "codemirror_mode": {
    "name": "ipython",
    "version": 3
   },
   "file_extension": ".py",
   "mimetype": "text/x-python",
   "name": "python",
   "nbconvert_exporter": "python",
   "pygments_lexer": "ipython3",
   "version": "3.10.7"
  }
 },
 "nbformat": 4,
 "nbformat_minor": 5
}
